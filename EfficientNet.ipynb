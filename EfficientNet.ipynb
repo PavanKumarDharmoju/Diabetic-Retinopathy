{
 "cells": [
  {
   "cell_type": "code",
   "execution_count": 1,
   "metadata": {},
   "outputs": [],
   "source": [
    "import torch\n",
    "import torchvision\n",
    "import os\n",
    "import torchvision.transforms as transforms\n",
    "import numpy as np\n",
    "import torch.nn as nn\n",
    "import torch.optim as optim\n",
    "from PIL import Image\n",
    "from torch.utils.data.sampler import SubsetRandomSampler\n",
    "from torch.utils.data import Dataset, DataLoader"
   ]
  },
  {
   "cell_type": "code",
   "execution_count": 2,
   "metadata": {},
   "outputs": [],
   "source": [
    "class DiabeticRetinopathyDataset(Dataset):\n",
    "    def __init__(self, base_dir, transform=None):\n",
    "        self.base_dir = base_dir\n",
    "        self.transform = transform\n",
    "        self.data = []\n",
    "        categories = ['No_DR', 'Mild', 'Moderate', 'Severe', 'Proliferate_DR']\n",
    "\n",
    "        for idx, category in enumerate(categories):\n",
    "            path = os.path.join(base_dir, category)\n",
    "            images = os.listdir(path)[:1000]  # Take only 1000 images per category\n",
    "            for image in images:\n",
    "                self.data.append((os.path.join(path, image), idx))\n",
    "\n",
    "    def __len__(self):\n",
    "        return len(self.data)\n",
    "\n",
    "    def __getitem__(self, idx):\n",
    "        img_path, label = self.data[idx]\n",
    "        image = Image.open(img_path).convert('RGB')\n",
    "        if self.transform:\n",
    "            image = self.transform(image)\n",
    "        return image, label\n"
   ]
  },
  {
   "cell_type": "code",
   "execution_count": 3,
   "metadata": {},
   "outputs": [],
   "source": [
    "transform = transforms.Compose([\n",
    "    transforms.Resize((224, 224)),\n",
    "    transforms.ToTensor(),\n",
    "    transforms.Normalize(mean=[0.485, 0.456, 0.406], std=[0.229, 0.224, 0.225]),\n",
    "])\n",
    "\n",
    "# Assuming 'base_dir' is your dataset directory path\n",
    "base_dir = 'data/gaussian_filtered_images/gaussian_filtered_images/'  # Update this path\n",
    "dataset = DiabeticRetinopathyDataset(base_dir=base_dir, transform=transform)\n",
    "\n",
    "# Splitting the dataset into train and validation\n",
    "train_size = int(0.8 * len(dataset))\n",
    "val_size = len(dataset) - train_size\n",
    "train_dataset, val_dataset = torch.utils.data.random_split(dataset, [train_size, val_size])\n",
    "\n",
    "# Create data loaders\n",
    "train_loader = DataLoader(train_dataset, batch_size=32, shuffle=True)\n",
    "val_loader = DataLoader(val_dataset, batch_size=32, shuffle=False)\n"
   ]
  },
  {
   "cell_type": "code",
   "execution_count": 6,
   "metadata": {},
   "outputs": [],
   "source": [
    "import torch\n",
    "import torch.nn as nn\n",
    "import torchvision.models as models\n",
    "\n",
    "def modify_efficientnet(model_name, num_classes=5):\n",
    "    model = getattr(models, model_name)(pretrained=True)\n",
    "    for param in model.features.parameters():\n",
    "        param.requires_grad = False\n",
    "    num_features = model.classifier[1].in_features\n",
    "    model.classifier = nn.Sequential(\n",
    "        nn.Dropout(p=0.2, inplace=True),\n",
    "        nn.Linear(num_features, num_classes)\n",
    "    )\n",
    "    return model"
   ]
  },
  {
   "cell_type": "code",
   "execution_count": 7,
   "metadata": {},
   "outputs": [],
   "source": [
    "def train_and_evaluate(model, criterion, optimizer, train_loader, val_loader, device, epochs=10):\n",
    "    for epoch in range(epochs):\n",
    "        model.train()\n",
    "        running_loss = 0.0\n",
    "        for inputs, labels in train_loader:\n",
    "            inputs, labels = inputs.to(device), labels.to(device)\n",
    "            optimizer.zero_grad()\n",
    "            outputs = model(inputs)\n",
    "            loss = criterion(outputs, labels)\n",
    "            loss.backward()\n",
    "            optimizer.step()\n",
    "            running_loss += loss.item()\n",
    "        \n",
    "        model.eval()\n",
    "        val_loss = 0.0\n",
    "        correct = 0\n",
    "        total = 0\n",
    "        with torch.no_grad():\n",
    "            for inputs, labels in val_loader:\n",
    "                inputs, labels = inputs.to(device), labels.to(device)\n",
    "                outputs = model(inputs)\n",
    "                loss = criterion(outputs, labels)\n",
    "                val_loss += loss.item()\n",
    "                _, predicted = torch.max(outputs.data, 1)\n",
    "                total += labels.size(0)\n",
    "                correct += (predicted == labels).sum().item()\n",
    "\n",
    "        print(f'{model_name} - Epoch {epoch+1}, Train Loss: {running_loss / len(train_loader)}, ' +\n",
    "              f'Validation Loss: {val_loss / len(val_loader)}, Validation Accuracy: {100 * correct / total}%')\n"
   ]
  },
  {
   "cell_type": "code",
   "execution_count": 8,
   "metadata": {},
   "outputs": [],
   "source": [
    "efficientnet_variants = ['efficientnet_b0', 'efficientnet_b1', 'efficientnet_b2', \n",
    "                         'efficientnet_b3', 'efficientnet_b4', 'efficientnet_b5', \n",
    "                         'efficientnet_b6']"
   ]
  },
  {
   "cell_type": "code",
   "execution_count": 9,
   "metadata": {},
   "outputs": [],
   "source": [
    "device = torch.device(\"cuda:0\" if torch.cuda.is_available() else \"cpu\")\n",
    "num_classes = 5"
   ]
  },
  {
   "cell_type": "code",
   "execution_count": 10,
   "metadata": {},
   "outputs": [
    {
     "name": "stdout",
     "output_type": "stream",
     "text": [
      "Setting up efficientnet_b0...\n",
      "efficientnet_b0 - Epoch 1, Train Loss: 1.1060106017523341, Validation Loss: 0.8952856030729082, Validation Accuracy: 68.00699300699301%\n",
      "efficientnet_b0 - Epoch 2, Train Loss: 0.8937635694940885, Validation Loss: 0.8274172130558226, Validation Accuracy: 70.1048951048951%\n",
      "efficientnet_b0 - Epoch 3, Train Loss: 0.8257279694080353, Validation Loss: 0.806270506646898, Validation Accuracy: 71.15384615384616%\n",
      "efficientnet_b0 - Epoch 4, Train Loss: 0.8042207091218896, Validation Loss: 0.7905620253748364, Validation Accuracy: 71.5034965034965%\n",
      "efficientnet_b0 - Epoch 5, Train Loss: 0.7594141082631217, Validation Loss: 0.7861546393897798, Validation Accuracy: 71.5034965034965%\n",
      "efficientnet_b0 - Epoch 6, Train Loss: 0.7549642879101965, Validation Loss: 0.7787978698809942, Validation Accuracy: 72.55244755244755%\n",
      "efficientnet_b0 - Epoch 7, Train Loss: 0.7356094643473625, Validation Loss: 0.7735428230630027, Validation Accuracy: 71.85314685314685%\n",
      "efficientnet_b0 - Epoch 8, Train Loss: 0.719062052667141, Validation Loss: 0.7606376707553864, Validation Accuracy: 73.42657342657343%\n",
      "efficientnet_b0 - Epoch 9, Train Loss: 0.7015416630440288, Validation Loss: 0.7618125047948625, Validation Accuracy: 73.95104895104895%\n",
      "efficientnet_b0 - Epoch 10, Train Loss: 0.704057150416904, Validation Loss: 0.769434145755238, Validation Accuracy: 73.07692307692308%\n",
      "Setting up efficientnet_b1...\n"
     ]
    },
    {
     "name": "stderr",
     "output_type": "stream",
     "text": [
      "Downloading: \"https://download.pytorch.org/models/efficientnet_b1_rwightman-533bc792.pth\" to /home/pavan/.cache/torch/hub/checkpoints/efficientnet_b1_rwightman-533bc792.pth\n"
     ]
    },
    {
     "data": {
      "application/vnd.jupyter.widget-view+json": {
       "model_id": "f264b729232a4566af957a92310e53bf",
       "version_major": 2,
       "version_minor": 0
      },
      "text/plain": [
       "  0%|          | 0.00/30.1M [00:00<?, ?B/s]"
      ]
     },
     "metadata": {},
     "output_type": "display_data"
    },
    {
     "name": "stdout",
     "output_type": "stream",
     "text": [
      "efficientnet_b1 - Epoch 1, Train Loss: 1.075275090833505, Validation Loss: 0.8847550451755524, Validation Accuracy: 69.05594405594405%\n",
      "efficientnet_b1 - Epoch 2, Train Loss: 0.877599760890007, Validation Loss: 0.8211860093805525, Validation Accuracy: 70.8041958041958%\n",
      "efficientnet_b1 - Epoch 3, Train Loss: 0.828384191625648, Validation Loss: 0.7875575323899587, Validation Accuracy: 72.37762237762237%\n",
      "efficientnet_b1 - Epoch 4, Train Loss: 0.7788025968604617, Validation Loss: 0.791471928358078, Validation Accuracy: 69.93006993006993%\n",
      "efficientnet_b1 - Epoch 5, Train Loss: 0.752405024237103, Validation Loss: 0.7704993900325563, Validation Accuracy: 71.15384615384616%\n",
      "efficientnet_b1 - Epoch 6, Train Loss: 0.7362062463329898, Validation Loss: 0.7585216379827924, Validation Accuracy: 71.85314685314685%\n",
      "efficientnet_b1 - Epoch 7, Train Loss: 0.7338419916729132, Validation Loss: 0.757743678159184, Validation Accuracy: 71.5034965034965%\n",
      "efficientnet_b1 - Epoch 8, Train Loss: 0.7144457929664187, Validation Loss: 0.7482135875357522, Validation Accuracy: 70.8041958041958%\n",
      "efficientnet_b1 - Epoch 9, Train Loss: 0.6969661803709136, Validation Loss: 0.7481702135668861, Validation Accuracy: 72.2027972027972%\n",
      "efficientnet_b1 - Epoch 10, Train Loss: 0.698509374840392, Validation Loss: 0.7456822660234239, Validation Accuracy: 70.97902097902097%\n",
      "Setting up efficientnet_b2...\n"
     ]
    },
    {
     "name": "stderr",
     "output_type": "stream",
     "text": [
      "Downloading: \"https://download.pytorch.org/models/efficientnet_b2_rwightman-bcdf34b7.pth\" to /home/pavan/.cache/torch/hub/checkpoints/efficientnet_b2_rwightman-bcdf34b7.pth\n"
     ]
    },
    {
     "data": {
      "application/vnd.jupyter.widget-view+json": {
       "model_id": "9727bcf4cb844ed088717555a8a8f7b9",
       "version_major": 2,
       "version_minor": 0
      },
      "text/plain": [
       "  0%|          | 0.00/35.2M [00:00<?, ?B/s]"
      ]
     },
     "metadata": {},
     "output_type": "display_data"
    },
    {
     "name": "stdout",
     "output_type": "stream",
     "text": [
      "efficientnet_b2 - Epoch 1, Train Loss: 1.1120328116748068, Validation Loss: 0.9152679873837365, Validation Accuracy: 68.18181818181819%\n",
      "efficientnet_b2 - Epoch 2, Train Loss: 0.9069344674547514, Validation Loss: 0.8286513686180115, Validation Accuracy: 69.93006993006993%\n",
      "efficientnet_b2 - Epoch 3, Train Loss: 0.860531494849258, Validation Loss: 0.7954991509517034, Validation Accuracy: 70.8041958041958%\n",
      "efficientnet_b2 - Epoch 4, Train Loss: 0.8244894221425056, Validation Loss: 0.7884729123777814, Validation Accuracy: 72.37762237762237%\n",
      "efficientnet_b2 - Epoch 5, Train Loss: 0.7869796074099011, Validation Loss: 0.7741539312733544, Validation Accuracy: 72.37762237762237%\n",
      "efficientnet_b2 - Epoch 6, Train Loss: 0.7750377940634886, Validation Loss: 0.7667079716920853, Validation Accuracy: 71.15384615384616%\n",
      "efficientnet_b2 - Epoch 7, Train Loss: 0.7445266706248125, Validation Loss: 0.7583252555794187, Validation Accuracy: 73.07692307692308%\n",
      "efficientnet_b2 - Epoch 8, Train Loss: 0.7348578592969311, Validation Loss: 0.7557509028249316, Validation Accuracy: 73.25174825174825%\n",
      "efficientnet_b2 - Epoch 9, Train Loss: 0.7267457511689928, Validation Loss: 0.7609161055750318, Validation Accuracy: 72.37762237762237%\n",
      "efficientnet_b2 - Epoch 10, Train Loss: 0.7315942860311933, Validation Loss: 0.7590576476520963, Validation Accuracy: 73.07692307692308%\n",
      "Setting up efficientnet_b3...\n"
     ]
    },
    {
     "name": "stderr",
     "output_type": "stream",
     "text": [
      "Downloading: \"https://download.pytorch.org/models/efficientnet_b3_rwightman-cf984f9c.pth\" to /home/pavan/.cache/torch/hub/checkpoints/efficientnet_b3_rwightman-cf984f9c.pth\n"
     ]
    },
    {
     "data": {
      "application/vnd.jupyter.widget-view+json": {
       "model_id": "44e017397f444456ae45a727d1c516d3",
       "version_major": 2,
       "version_minor": 0
      },
      "text/plain": [
       "  0%|          | 0.00/47.2M [00:00<?, ?B/s]"
      ]
     },
     "metadata": {},
     "output_type": "display_data"
    },
    {
     "name": "stdout",
     "output_type": "stream",
     "text": [
      "efficientnet_b3 - Epoch 1, Train Loss: 1.139298333062066, Validation Loss: 0.9295672277609507, Validation Accuracy: 66.95804195804196%\n",
      "efficientnet_b3 - Epoch 2, Train Loss: 0.9308341128958596, Validation Loss: 0.8515317009554969, Validation Accuracy: 68.7062937062937%\n",
      "efficientnet_b3 - Epoch 3, Train Loss: 0.8760811413327853, Validation Loss: 0.8118481470478905, Validation Accuracy: 69.93006993006993%\n",
      "efficientnet_b3 - Epoch 4, Train Loss: 0.8471183371212747, Validation Loss: 0.8021681325303184, Validation Accuracy: 70.45454545454545%\n",
      "efficientnet_b3 - Epoch 5, Train Loss: 0.8154036928382185, Validation Loss: 0.7853134506278567, Validation Accuracy: 70.97902097902097%\n",
      "efficientnet_b3 - Epoch 6, Train Loss: 0.7942587782939275, Validation Loss: 0.7873056679964066, Validation Accuracy: 70.27972027972028%\n",
      "efficientnet_b3 - Epoch 7, Train Loss: 0.7807419763671027, Validation Loss: 0.7563272996081246, Validation Accuracy: 71.5034965034965%\n",
      "efficientnet_b3 - Epoch 8, Train Loss: 0.7721431329846382, Validation Loss: 0.7531489233175913, Validation Accuracy: 72.37762237762237%\n",
      "efficientnet_b3 - Epoch 9, Train Loss: 0.748063704619805, Validation Loss: 0.7594504836532805, Validation Accuracy: 71.67832167832168%\n",
      "efficientnet_b3 - Epoch 10, Train Loss: 0.7435549712843366, Validation Loss: 0.7592553877168231, Validation Accuracy: 71.15384615384616%\n",
      "Setting up efficientnet_b4...\n"
     ]
    },
    {
     "name": "stderr",
     "output_type": "stream",
     "text": [
      "Downloading: \"https://download.pytorch.org/models/efficientnet_b4_rwightman-7eb33cd5.pth\" to /home/pavan/.cache/torch/hub/checkpoints/efficientnet_b4_rwightman-7eb33cd5.pth\n"
     ]
    },
    {
     "data": {
      "application/vnd.jupyter.widget-view+json": {
       "model_id": "dc9b27b2bf3343fc91f3f69f5cfa4b6c",
       "version_major": 2,
       "version_minor": 0
      },
      "text/plain": [
       "  0%|          | 0.00/74.5M [00:00<?, ?B/s]"
      ]
     },
     "metadata": {},
     "output_type": "display_data"
    },
    {
     "name": "stdout",
     "output_type": "stream",
     "text": [
      "efficientnet_b4 - Epoch 1, Train Loss: 1.2108804997470644, Validation Loss: 0.9943456252415975, Validation Accuracy: 63.46153846153846%\n",
      "efficientnet_b4 - Epoch 2, Train Loss: 0.9899238852990998, Validation Loss: 0.8994918598069085, Validation Accuracy: 67.3076923076923%\n",
      "efficientnet_b4 - Epoch 3, Train Loss: 0.93412989212407, Validation Loss: 0.8534284763866, Validation Accuracy: 68.00699300699301%\n",
      "efficientnet_b4 - Epoch 4, Train Loss: 0.8953623366024759, Validation Loss: 0.8260497152805328, Validation Accuracy: 68.7062937062937%\n",
      "efficientnet_b4 - Epoch 5, Train Loss: 0.8746790943874253, Validation Loss: 0.8150307287772497, Validation Accuracy: 69.58041958041959%\n",
      "efficientnet_b4 - Epoch 6, Train Loss: 0.8542279750108719, Validation Loss: 0.7986647221777174, Validation Accuracy: 69.58041958041959%\n",
      "efficientnet_b4 - Epoch 7, Train Loss: 0.8281289777821965, Validation Loss: 0.7884598208798302, Validation Accuracy: 69.93006993006993%\n",
      "efficientnet_b4 - Epoch 8, Train Loss: 0.8121534751521217, Validation Loss: 0.7788300646675957, Validation Accuracy: 70.8041958041958%\n",
      "efficientnet_b4 - Epoch 9, Train Loss: 0.799250066280365, Validation Loss: 0.77888090411822, Validation Accuracy: 70.45454545454545%\n",
      "efficientnet_b4 - Epoch 10, Train Loss: 0.782599618865384, Validation Loss: 0.7654017276234097, Validation Accuracy: 70.27972027972028%\n",
      "Setting up efficientnet_b5...\n"
     ]
    },
    {
     "name": "stderr",
     "output_type": "stream",
     "text": [
      "Downloading: \"https://download.pytorch.org/models/efficientnet_b5_lukemelas-b6417697.pth\" to /home/pavan/.cache/torch/hub/checkpoints/efficientnet_b5_lukemelas-b6417697.pth\n"
     ]
    },
    {
     "data": {
      "application/vnd.jupyter.widget-view+json": {
       "model_id": "0eaa4d361d33414480ae09bb75536d7d",
       "version_major": 2,
       "version_minor": 0
      },
      "text/plain": [
       "  0%|          | 0.00/117M [00:00<?, ?B/s]"
      ]
     },
     "metadata": {},
     "output_type": "display_data"
    },
    {
     "name": "stdout",
     "output_type": "stream",
     "text": [
      "efficientnet_b5 - Epoch 1, Train Loss: 1.1253985456294484, Validation Loss: 1.1982048153877258, Validation Accuracy: 48.25174825174825%\n",
      "efficientnet_b5 - Epoch 2, Train Loss: 0.9146766861279806, Validation Loss: 1.0178093877103593, Validation Accuracy: 60.31468531468531%\n",
      "efficientnet_b5 - Epoch 3, Train Loss: 0.8699418587817086, Validation Loss: 0.8875446187125312, Validation Accuracy: 66.60839160839161%\n",
      "efficientnet_b5 - Epoch 4, Train Loss: 0.839444734983974, Validation Loss: 0.8388316598203447, Validation Accuracy: 69.75524475524476%\n",
      "efficientnet_b5 - Epoch 5, Train Loss: 0.7867875488268005, Validation Loss: 0.8154332571559482, Validation Accuracy: 70.1048951048951%\n",
      "efficientnet_b5 - Epoch 6, Train Loss: 0.7788965267439684, Validation Loss: 0.7991427448060777, Validation Accuracy: 71.85314685314685%\n",
      "efficientnet_b5 - Epoch 7, Train Loss: 0.7579994768732123, Validation Loss: 0.7896021008491516, Validation Accuracy: 72.37762237762237%\n",
      "efficientnet_b5 - Epoch 8, Train Loss: 0.7324565052986145, Validation Loss: 0.7742042938868204, Validation Accuracy: 72.2027972027972%\n",
      "efficientnet_b5 - Epoch 9, Train Loss: 0.7448680831326379, Validation Loss: 0.7635576741562949, Validation Accuracy: 71.15384615384616%\n",
      "efficientnet_b5 - Epoch 10, Train Loss: 0.706423919647932, Validation Loss: 0.7616319954395294, Validation Accuracy: 72.2027972027972%\n",
      "Setting up efficientnet_b6...\n"
     ]
    },
    {
     "name": "stderr",
     "output_type": "stream",
     "text": [
      "Downloading: \"https://download.pytorch.org/models/efficientnet_b6_lukemelas-c76e70fd.pth\" to /home/pavan/.cache/torch/hub/checkpoints/efficientnet_b6_lukemelas-c76e70fd.pth\n"
     ]
    },
    {
     "data": {
      "application/vnd.jupyter.widget-view+json": {
       "model_id": "394358cab0884da0a35f256df65cfc22",
       "version_major": 2,
       "version_minor": 0
      },
      "text/plain": [
       "  0%|          | 0.00/165M [00:00<?, ?B/s]"
      ]
     },
     "metadata": {},
     "output_type": "display_data"
    },
    {
     "name": "stdout",
     "output_type": "stream",
     "text": [
      "efficientnet_b6 - Epoch 1, Train Loss: 1.1523591495222516, Validation Loss: 1.217050290770001, Validation Accuracy: 46.32867132867133%\n",
      "efficientnet_b6 - Epoch 2, Train Loss: 0.9423360824584961, Validation Loss: 0.9847341212961409, Validation Accuracy: 63.11188811188811%\n",
      "efficientnet_b6 - Epoch 3, Train Loss: 0.8553327951166365, Validation Loss: 0.876792248752382, Validation Accuracy: 65.73426573426573%\n",
      "efficientnet_b6 - Epoch 4, Train Loss: 0.8233305219974782, Validation Loss: 0.8236512144406637, Validation Accuracy: 68.88111888111888%\n",
      "efficientnet_b6 - Epoch 5, Train Loss: 0.8071304199596246, Validation Loss: 0.7943778137365977, Validation Accuracy: 71.32867132867133%\n",
      "efficientnet_b6 - Epoch 6, Train Loss: 0.7821388012833066, Validation Loss: 0.7718489236301846, Validation Accuracy: 70.8041958041958%\n",
      "efficientnet_b6 - Epoch 7, Train Loss: 0.7687339633703232, Validation Loss: 0.7715210914611816, Validation Accuracy: 71.85314685314685%\n",
      "efficientnet_b6 - Epoch 8, Train Loss: 0.7392782237794664, Validation Loss: 0.7641989787419637, Validation Accuracy: 72.2027972027972%\n",
      "efficientnet_b6 - Epoch 9, Train Loss: 0.7219400016797913, Validation Loss: 0.7583328617943658, Validation Accuracy: 72.55244755244755%\n",
      "efficientnet_b6 - Epoch 10, Train Loss: 0.7208873741328716, Validation Loss: 0.7542196810245514, Validation Accuracy: 71.5034965034965%\n"
     ]
    }
   ],
   "source": [
    "for model_name in efficientnet_variants:\n",
    "    print(f\"Setting up {model_name}...\")\n",
    "    model = modify_efficientnet(model_name, num_classes)\n",
    "    model = model.to(device)\n",
    "    criterion = nn.CrossEntropyLoss()\n",
    "    optimizer = torch.optim.Adam(model.classifier.parameters(), lr=0.001)\n",
    "    \n",
    "    train_and_evaluate(model, criterion, optimizer, train_loader, val_loader, device)"
   ]
  }
 ],
 "metadata": {
  "kernelspec": {
   "display_name": "base",
   "language": "python",
   "name": "python3"
  },
  "language_info": {
   "codemirror_mode": {
    "name": "ipython",
    "version": 3
   },
   "file_extension": ".py",
   "mimetype": "text/x-python",
   "name": "python",
   "nbconvert_exporter": "python",
   "pygments_lexer": "ipython3",
   "version": "3.6.9"
  }
 },
 "nbformat": 4,
 "nbformat_minor": 2
}
